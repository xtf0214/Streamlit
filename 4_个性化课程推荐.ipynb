{
 "cells": [
  {
   "cell_type": "code",
   "execution_count": 1,
   "metadata": {},
   "outputs": [],
   "source": [
    "import itertools\n",
    "import json\n",
    "import math\n",
    "import os\n",
    "import random\n",
    "import re\n",
    "import sys\n",
    "from collections import Counter\n",
    "from datetime import datetime\n",
    "\n",
    "import matplotlib.pyplot as plt\n",
    "import networkx as nx\n",
    "import numpy as np\n",
    "import pandas as pd\n",
    "import utils\n",
    "from tqdm import tqdm\n",
    "\n",
    "plt.rcParams['font.sans-serif'] = ['SimHei']\n",
    "plt.rcParams['axes.unicode_minus'] = False"
   ]
  },
  {
   "cell_type": "markdown",
   "metadata": {},
   "source": [
    "7. 学习日志表-activity_learn_log\n",
    "\n",
    "---"
   ]
  },
  {
   "cell_type": "code",
   "execution_count": 2,
   "metadata": {},
   "outputs": [],
   "source": [
    "activity_learn_log = pd.read_csv('./data/activity_learn_log.csv')"
   ]
  },
  {
   "cell_type": "markdown",
   "metadata": {},
   "source": [
    "导出学习记录"
   ]
  },
  {
   "cell_type": "code",
   "execution_count": 3,
   "metadata": {},
   "outputs": [],
   "source": [
    "json_data = {}"
   ]
  },
  {
   "cell_type": "code",
   "execution_count": 4,
   "metadata": {},
   "outputs": [],
   "source": [
    "json_data['userId_list'] = sorted([int(x) for x in activity_learn_log['userId'].unique()])"
   ]
  },
  {
   "cell_type": "code",
   "execution_count": 5,
   "metadata": {},
   "outputs": [],
   "source": [
    "def calc(df: pd.DataFrame):\n",
    "    dicts = utils.count_pair(list(zip(df[\"mediaType\"], df[\"learnedTime\"])))\n",
    "    return {\"watching\": dicts.get(\"video\", 0), \"doing\": sum(dicts.values()) - dicts.get(\"video\", 0)}"
   ]
  },
  {
   "cell_type": "code",
   "execution_count": 6,
   "metadata": {},
   "outputs": [],
   "source": [
    "json_data['user_learning_type'] = activity_learn_log[[\"userId\", \"mediaType\", \"learnedTime\"]].groupby(\"userId\").apply(calc).to_dict()"
   ]
  },
  {
   "cell_type": "code",
   "execution_count": 7,
   "metadata": {},
   "outputs": [],
   "source": [
    "json_data[\"user_learning_record\"] = (\n",
    "    activity_learn_log[[\"userId\", \"learnedTime\"]].groupby(\"userId\").agg(list).to_dict()[\"learnedTime\"]\n",
    ")"
   ]
  },
  {
   "cell_type": "code",
   "execution_count": 8,
   "metadata": {},
   "outputs": [],
   "source": [
    "json.dump(json_data, open(\"./out/个性化课程推荐.json\", \"w\"))"
   ]
  },
  {
   "cell_type": "code",
   "execution_count": 9,
   "metadata": {},
   "outputs": [
    {
     "data": {
      "text/plain": [
       "mediaType\n",
       "doc            1924650\n",
       "download      11655739\n",
       "exercise        989711\n",
       "homework       3831024\n",
       "ppt               2016\n",
       "testpaper     76173014\n",
       "text           2021533\n",
       "video        567950648\n",
       "Name: learnedTime, dtype: int64"
      ]
     },
     "execution_count": 9,
     "metadata": {},
     "output_type": "execute_result"
    }
   ],
   "source": [
    "activity_learn_log.groupby('mediaType')['learnedTime'].sum()"
   ]
  },
  {
   "cell_type": "code",
   "execution_count": 10,
   "metadata": {},
   "outputs": [
    {
     "data": {
      "text/plain": [
       "mediaType\n",
       "doc          0.002896\n",
       "download     0.017539\n",
       "exercise     0.001489\n",
       "homework     0.005765\n",
       "ppt          0.000003\n",
       "testpaper    0.114624\n",
       "text         0.003042\n",
       "video        0.854642\n",
       "Name: learnedTime, dtype: float64"
      ]
     },
     "execution_count": 10,
     "metadata": {},
     "output_type": "execute_result"
    }
   ],
   "source": [
    "# dicts = {}\n",
    "(activity_learn_log.groupby('mediaType')['learnedTime'].sum() / activity_learn_log.groupby('mediaType')['learnedTime'].sum().sum())"
   ]
  },
  {
   "cell_type": "code",
   "execution_count": 11,
   "metadata": {},
   "outputs": [
    {
     "data": {
      "text/plain": [
       "array([     3,      5,     13, ..., 174592, 174600, 174601], dtype=int64)"
      ]
     },
     "execution_count": 11,
     "metadata": {},
     "output_type": "execute_result"
    }
   ],
   "source": [
    "np.array(sorted(activity_learn_log['userId'].unique()))"
   ]
  },
  {
   "cell_type": "code",
   "execution_count": 12,
   "metadata": {},
   "outputs": [
    {
     "data": {
      "text/plain": [
       "video        10856853\n",
       "testpaper     1264731\n",
       "download       225334\n",
       "homework        66453\n",
       "text            37673\n",
       "doc             28196\n",
       "exercise        16115\n",
       "ppt               111\n",
       "Name: mediaType, dtype: int64"
      ]
     },
     "execution_count": 12,
     "metadata": {},
     "output_type": "execute_result"
    }
   ],
   "source": [
    "activity_learn_log['mediaType'].value_counts()"
   ]
  },
  {
   "cell_type": "code",
   "execution_count": 13,
   "metadata": {},
   "outputs": [
    {
     "data": {
      "text/plain": [
       "167157    31477\n",
       "5183      29031\n",
       "159863    27987\n",
       "145060    22993\n",
       "164177    20639\n",
       "          ...  \n",
       "167688        1\n",
       "165006        1\n",
       "163253        1\n",
       "29116         1\n",
       "163193        1\n",
       "Name: userId, Length: 10095, dtype: int64"
      ]
     },
     "execution_count": 13,
     "metadata": {},
     "output_type": "execute_result"
    }
   ],
   "source": [
    "activity_learn_log['userId'].value_counts()"
   ]
  },
  {
   "cell_type": "code",
   "execution_count": 14,
   "metadata": {},
   "outputs": [
    {
     "data": {
      "text/plain": [
       "11492514"
      ]
     },
     "execution_count": 14,
     "metadata": {},
     "output_type": "execute_result"
    }
   ],
   "source": [
    "activity_learn_log2 = activity_learn_log[activity_learn_log['event'].isin({\"doing\", \"watching\"})]\n",
    "len(activity_learn_log2)"
   ]
  },
  {
   "cell_type": "code",
   "execution_count": 15,
   "metadata": {},
   "outputs": [
    {
     "data": {
      "text/plain": [
       "'{\"lastTime\":\"1679989451\",\"lastLearnTime\":\"505.51\",\"taskId\":\"263255\",\"event\":\"doing\",\"learnedTime\":48}'"
      ]
     },
     "execution_count": 15,
     "metadata": {},
     "output_type": "execute_result"
    }
   ],
   "source": [
    "activity_learn_log.iloc[2]['data']"
   ]
  },
  {
   "cell_type": "code",
   "execution_count": 16,
   "metadata": {},
   "outputs": [
    {
     "data": {
      "text/plain": [
       "id                                                              3\n",
       "activityId                                                 263272\n",
       "courseTaskId                                               263255\n",
       "userId                                                     162609\n",
       "mediaType                                                   video\n",
       "event                                                       doing\n",
       "data            {\"lastTime\":\"1679989451\",\"lastLearnTime\":\"505....\n",
       "learnedTime                                                    48\n",
       "createdTime                                            1679989499\n",
       "Name: 2, dtype: object"
      ]
     },
     "execution_count": 16,
     "metadata": {},
     "output_type": "execute_result"
    }
   ],
   "source": [
    "activity_learn_log.iloc[2]"
   ]
  },
  {
   "cell_type": "markdown",
   "metadata": {},
   "source": [
    "8. 试卷信息表-testpaper\n",
    "\n",
    "---"
   ]
  },
  {
   "cell_type": "code",
   "execution_count": 17,
   "metadata": {},
   "outputs": [],
   "source": [
    "testpaper = pd.read_csv('./data/testpaper.csv')"
   ]
  },
  {
   "cell_type": "code",
   "execution_count": 18,
   "metadata": {},
   "outputs": [],
   "source": [
    "testpaper = testpaper[(testpaper['type'] == 'testpaper') & (testpaper['status'] != 'draft') ]"
   ]
  },
  {
   "cell_type": "markdown",
   "metadata": {},
   "source": [
    "9. 试卷结果表-testpaper_result\n",
    "\n",
    "---"
   ]
  },
  {
   "cell_type": "code",
   "execution_count": 19,
   "metadata": {},
   "outputs": [
    {
     "name": "stderr",
     "output_type": "stream",
     "text": [
      "C:\\Users\\Tanphoon\\AppData\\Local\\Temp\\ipykernel_3652\\4110415055.py:1: DtypeWarning: Columns (9) have mixed types. Specify dtype option on import or set low_memory=False.\n",
      "  testpaper_result = pd.read_csv('./data/testpaper_result.csv')\n"
     ]
    }
   ],
   "source": [
    "testpaper_result = pd.read_csv('./data/testpaper_result.csv')"
   ]
  },
  {
   "cell_type": "code",
   "execution_count": 20,
   "metadata": {},
   "outputs": [],
   "source": [
    "testpaper_result = testpaper_result[testpaper_result['type'] == 'testpaper']\n",
    "testpaper_result = testpaper_result[['userId', 'paperName', 'courseId', 'score']]"
   ]
  },
  {
   "cell_type": "markdown",
   "metadata": {},
   "source": [
    "融合表8和表9"
   ]
  },
  {
   "cell_type": "code",
   "execution_count": 21,
   "metadata": {},
   "outputs": [],
   "source": [
    "# 求交集\n",
    "cap = set(testpaper_result['courseId'].unique()) & set(testpaper['courseId'].unique())\n",
    "# 表8数据\n",
    "total_score_ =  testpaper[testpaper['courseId'].isin(cap)][[\"courseId\", \"name\", \"score\"]].set_index([\"courseId\", \"name\"]) \n",
    "# 表9数据\n",
    "total_score = testpaper_result.groupby(['courseId','paperName' ])['score'].max()\n",
    "# 合并\n",
    "for idx, score in total_score_.itertuples():\n",
    "    if idx in total_score:\n",
    "        total_score[idx] = score"
   ]
  },
  {
   "cell_type": "code",
   "execution_count": 22,
   "metadata": {},
   "outputs": [
    {
     "data": {
      "text/html": [
       "<div>\n",
       "<style scoped>\n",
       "    .dataframe tbody tr th:only-of-type {\n",
       "        vertical-align: middle;\n",
       "    }\n",
       "\n",
       "    .dataframe tbody tr th {\n",
       "        vertical-align: top;\n",
       "    }\n",
       "\n",
       "    .dataframe thead th {\n",
       "        text-align: right;\n",
       "    }\n",
       "</style>\n",
       "<table border=\"1\" class=\"dataframe\">\n",
       "  <thead>\n",
       "    <tr style=\"text-align: right;\">\n",
       "      <th></th>\n",
       "      <th>userId</th>\n",
       "      <th>paperName</th>\n",
       "      <th>courseId</th>\n",
       "      <th>score</th>\n",
       "    </tr>\n",
       "  </thead>\n",
       "  <tbody>\n",
       "    <tr>\n",
       "      <th>4</th>\n",
       "      <td>3</td>\n",
       "      <td>试卷2</td>\n",
       "      <td>2</td>\n",
       "      <td>2.0</td>\n",
       "    </tr>\n",
       "    <tr>\n",
       "      <th>5</th>\n",
       "      <td>3</td>\n",
       "      <td>试卷2</td>\n",
       "      <td>2</td>\n",
       "      <td>0.0</td>\n",
       "    </tr>\n",
       "    <tr>\n",
       "      <th>1438</th>\n",
       "      <td>15422</td>\n",
       "      <td>Python数据分析方向 - 试题</td>\n",
       "      <td>425</td>\n",
       "      <td>10.0</td>\n",
       "    </tr>\n",
       "    <tr>\n",
       "      <th>1439</th>\n",
       "      <td>15422</td>\n",
       "      <td>Python数据分析</td>\n",
       "      <td>406</td>\n",
       "      <td>16.0</td>\n",
       "    </tr>\n",
       "    <tr>\n",
       "      <th>1440</th>\n",
       "      <td>15422</td>\n",
       "      <td>Python数据分析</td>\n",
       "      <td>406</td>\n",
       "      <td>28.0</td>\n",
       "    </tr>\n",
       "    <tr>\n",
       "      <th>...</th>\n",
       "      <td>...</td>\n",
       "      <td>...</td>\n",
       "      <td>...</td>\n",
       "      <td>...</td>\n",
       "    </tr>\n",
       "    <tr>\n",
       "      <th>349031</th>\n",
       "      <td>93923</td>\n",
       "      <td>计算机程序设计员-四级理论考试模拟卷②</td>\n",
       "      <td>11628</td>\n",
       "      <td>63.0</td>\n",
       "    </tr>\n",
       "    <tr>\n",
       "      <th>349032</th>\n",
       "      <td>169949</td>\n",
       "      <td>计算机程序设计员-四级理论考试模拟卷①</td>\n",
       "      <td>11628</td>\n",
       "      <td>87.0</td>\n",
       "    </tr>\n",
       "    <tr>\n",
       "      <th>349033</th>\n",
       "      <td>174507</td>\n",
       "      <td>泰迪智能双创工作室知识考核</td>\n",
       "      <td>12778</td>\n",
       "      <td>0.0</td>\n",
       "    </tr>\n",
       "    <tr>\n",
       "      <th>349034</th>\n",
       "      <td>169255</td>\n",
       "      <td>计算机程序设计员-四级理论考试模拟卷⑤</td>\n",
       "      <td>11628</td>\n",
       "      <td>83.0</td>\n",
       "    </tr>\n",
       "    <tr>\n",
       "      <th>349035</th>\n",
       "      <td>93956</td>\n",
       "      <td>计算机程序设计员-四级理论考试模拟卷④</td>\n",
       "      <td>11628</td>\n",
       "      <td>72.0</td>\n",
       "    </tr>\n",
       "  </tbody>\n",
       "</table>\n",
       "<p>203754 rows × 4 columns</p>\n",
       "</div>"
      ],
      "text/plain": [
       "        userId            paperName  courseId  score\n",
       "4            3                  试卷2         2    2.0\n",
       "5            3                  试卷2         2    0.0\n",
       "1438     15422    Python数据分析方向 - 试题       425   10.0\n",
       "1439     15422           Python数据分析       406   16.0\n",
       "1440     15422           Python数据分析       406   28.0\n",
       "...        ...                  ...       ...    ...\n",
       "349031   93923  计算机程序设计员-四级理论考试模拟卷②     11628   63.0\n",
       "349032  169949  计算机程序设计员-四级理论考试模拟卷①     11628   87.0\n",
       "349033  174507        泰迪智能双创工作室知识考核     12778    0.0\n",
       "349034  169255  计算机程序设计员-四级理论考试模拟卷⑤     11628   83.0\n",
       "349035   93956  计算机程序设计员-四级理论考试模拟卷④     11628   72.0\n",
       "\n",
       "[203754 rows x 4 columns]"
      ]
     },
     "execution_count": 22,
     "metadata": {},
     "output_type": "execute_result"
    }
   ],
   "source": [
    "testpaper_result"
   ]
  },
  {
   "cell_type": "code",
   "execution_count": 23,
   "metadata": {},
   "outputs": [
    {
     "data": {
      "text/html": [
       "<div>\n",
       "<style scoped>\n",
       "    .dataframe tbody tr th:only-of-type {\n",
       "        vertical-align: middle;\n",
       "    }\n",
       "\n",
       "    .dataframe tbody tr th {\n",
       "        vertical-align: top;\n",
       "    }\n",
       "\n",
       "    .dataframe thead th {\n",
       "        text-align: right;\n",
       "    }\n",
       "</style>\n",
       "<table border=\"1\" class=\"dataframe\">\n",
       "  <thead>\n",
       "    <tr style=\"text-align: right;\">\n",
       "      <th></th>\n",
       "      <th></th>\n",
       "      <th></th>\n",
       "      <th>score</th>\n",
       "    </tr>\n",
       "    <tr>\n",
       "      <th>userId</th>\n",
       "      <th>courseId</th>\n",
       "      <th>paperName</th>\n",
       "      <th></th>\n",
       "    </tr>\n",
       "  </thead>\n",
       "  <tbody>\n",
       "    <tr>\n",
       "      <th rowspan=\"5\" valign=\"top\">3</th>\n",
       "      <th>2</th>\n",
       "      <th>试卷2</th>\n",
       "      <td>2.0</td>\n",
       "    </tr>\n",
       "    <tr>\n",
       "      <th>14</th>\n",
       "      <th>《Hadoop大数据基础与应用》期中考试试卷</th>\n",
       "      <td>0.0</td>\n",
       "    </tr>\n",
       "    <tr>\n",
       "      <th>96</th>\n",
       "      <th>课程题目模板V1.2（上传）</th>\n",
       "      <td>0.0</td>\n",
       "    </tr>\n",
       "    <tr>\n",
       "      <th>263</th>\n",
       "      <th>提交项目成果</th>\n",
       "      <td>0.0</td>\n",
       "    </tr>\n",
       "    <tr>\n",
       "      <th>338</th>\n",
       "      <th>《Hadoop大数据基础与应用》期中考试试卷</th>\n",
       "      <td>0.0</td>\n",
       "    </tr>\n",
       "    <tr>\n",
       "      <th>...</th>\n",
       "      <th>...</th>\n",
       "      <th>...</th>\n",
       "      <td>...</td>\n",
       "    </tr>\n",
       "    <tr>\n",
       "      <th>174581</th>\n",
       "      <th>11109</th>\n",
       "      <th>人工智能（高级）正式卷</th>\n",
       "      <td>0.0</td>\n",
       "    </tr>\n",
       "    <tr>\n",
       "      <th>174582</th>\n",
       "      <th>11109</th>\n",
       "      <th>人工智能（高级）正式卷</th>\n",
       "      <td>0.0</td>\n",
       "    </tr>\n",
       "    <tr>\n",
       "      <th>174583</th>\n",
       "      <th>11109</th>\n",
       "      <th>人工智能（高级）正式卷</th>\n",
       "      <td>0.0</td>\n",
       "    </tr>\n",
       "    <tr>\n",
       "      <th>174584</th>\n",
       "      <th>11109</th>\n",
       "      <th>人工智能（高级）正式卷</th>\n",
       "      <td>0.0</td>\n",
       "    </tr>\n",
       "    <tr>\n",
       "      <th>174585</th>\n",
       "      <th>11109</th>\n",
       "      <th>人工智能（高级）正式卷</th>\n",
       "      <td>0.0</td>\n",
       "    </tr>\n",
       "  </tbody>\n",
       "</table>\n",
       "<p>145789 rows × 1 columns</p>\n",
       "</div>"
      ],
      "text/plain": [
       "                                        score\n",
       "userId courseId paperName                    \n",
       "3      2        试卷2                       2.0\n",
       "       14       《Hadoop大数据基础与应用》期中考试试卷    0.0\n",
       "       96       课程题目模板V1.2（上传）            0.0\n",
       "       263      提交项目成果                    0.0\n",
       "       338      《Hadoop大数据基础与应用》期中考试试卷    0.0\n",
       "...                                       ...\n",
       "174581 11109    人工智能（高级）正式卷               0.0\n",
       "174582 11109    人工智能（高级）正式卷               0.0\n",
       "174583 11109    人工智能（高级）正式卷               0.0\n",
       "174584 11109    人工智能（高级）正式卷               0.0\n",
       "174585 11109    人工智能（高级）正式卷               0.0\n",
       "\n",
       "[145789 rows x 1 columns]"
      ]
     },
     "execution_count": 23,
     "metadata": {},
     "output_type": "execute_result"
    }
   ],
   "source": [
    "user_data = testpaper_result.groupby(['userId', 'courseId', 'paperName']).max()\n",
    "user_data"
   ]
  },
  {
   "cell_type": "code",
   "execution_count": 24,
   "metadata": {},
   "outputs": [],
   "source": [
    "def get_max_score(row):\n",
    "    idx = (row.name[1], row.name[2])\n",
    "    return total_score[idx] if total_score[idx] != 0 else 1\n",
    "user_data['rating'] =  user_data.apply(lambda x:int(x['score'] / get_max_score(x) * 10), axis=1)"
   ]
  },
  {
   "cell_type": "code",
   "execution_count": 25,
   "metadata": {},
   "outputs": [],
   "source": [
    "user_data = user_data.groupby([\"userId\", \"courseId\"]).max().reset_index()"
   ]
  },
  {
   "cell_type": "code",
   "execution_count": 26,
   "metadata": {},
   "outputs": [],
   "source": [
    "\n",
    "class UserItemRecommond:\n",
    "    def __init__(self, user_data: dict) -> None:\n",
    "        self.user_data = user_data\n",
    "        self.user_similarity_matrix = {}\n",
    "        self.user_related_matrix = {}\n",
    "        self.average_rating = {}\n",
    "        self.item_user = {}\n",
    "\n",
    "        print(\"\\033[0;32mBuilding item-user table...\\033[0m\")\n",
    "        for user, items in tqdm(user_data.items()):\n",
    "            for x in items:\n",
    "                self.item_user.setdefault(x, [])\n",
    "                self.item_user[x].append(user)\n",
    "        print(f\"len(item) = {len(self.item_user)}, len(user) = {len(self.user_data)}\")\n",
    "\n",
    "        print(\"\\033[0;32mBuild user common-rating item matrix...\\033[0m\")\n",
    "        for item, users in tqdm(self.item_user.items()):\n",
    "            for u in users:\n",
    "                self.user_similarity_matrix.setdefault(u, {})\n",
    "                self.user_related_matrix.setdefault(u, {})\n",
    "                for v in users:\n",
    "                    if u == v:\n",
    "                        continue\n",
    "                    self.user_similarity_matrix[u].setdefault(v, 0)\n",
    "                    self.user_related_matrix[u].setdefault(v, [])\n",
    "                    self.user_similarity_matrix[u][v] += 1\n",
    "                    self.user_related_matrix[u][v].append(item)\n",
    "        for user, items in user_data.items():\n",
    "            self.average_rating[user] = np.mean(list(items.values()))\n",
    "\n",
    "    def calc_user_sim(self):\n",
    "        print(\"\\033[0;32mCalculating user similarity matrix...\\033[0m\")\n",
    "        r = self.user_data\n",
    "        # for u, related_users in self.user_related_matrix.items():\n",
    "        for u, related_users in tqdm(self.user_related_matrix.items()):\n",
    "            # 获取目标用户评价电影的数量\n",
    "            for v, items in related_users.items():\n",
    "                pearson1 = 0\n",
    "                pearson2 = 0\n",
    "                pearson3 = 0\n",
    "                W1 = 0\n",
    "                W2 = 0\n",
    "                for x in items:\n",
    "                    pearson1 += (\n",
    "                        math.exp(-math.log(len(self.item_user[x]), 10))\n",
    "                        * (r[u][x] - self.average_rating[u])\n",
    "                        * (r[v][x] - self.average_rating[v])\n",
    "                    )\n",
    "                    pearson2 += pow(r[u][x] - self.average_rating[u], 2)\n",
    "                    pearson3 += pow(r[v][x] - self.average_rating[v], 2)\n",
    "                    W1 += r[u][x]\n",
    "                    W2 += r[v][x]\n",
    "                if pearson1 == 0:\n",
    "                    self.user_similarity_matrix[u][v] = 0\n",
    "                else:\n",
    "                    W = math.sqrt(W1 / sum(r[u].values()) * W1 / sum(r[v].values()))\n",
    "                    IS = len(self.user_related_matrix[u][v]) / (\n",
    "                        len(r[u]) + len(r[v]) - len(self.user_related_matrix[u][v])\n",
    "                    )\n",
    "                    pearson = pearson1 / (math.sqrt(pearson2) * math.sqrt(pearson3))\n",
    "                    self.user_similarity_matrix[u][v] = IS * W * pearson\n",
    "\n",
    "    # 针对目标用户u，找到其最相似的K个相似用户，产生N个推荐\n",
    "    def recommend(self, u: int, K: int, N: int):\n",
    "        r = self.user_data\n",
    "        predict = {}\n",
    "        userSimSum = 0\n",
    "        # 寻找u的最近邻居集K个，v表示相似用户，sim相似度\n",
    "        for v, sim in sorted(self.user_similarity_matrix[u].items(), key=lambda x: x[1], reverse=True)[0:K]:\n",
    "            userSimSum += abs(sim)\n",
    "            for item, rating in r[v].items():\n",
    "                if item in r[u]:\n",
    "                    continue\n",
    "                predict.setdefault(item, 0)\n",
    "                predict[item] += sim * (rating - self.average_rating[v])\n",
    "        for item in predict.keys():\n",
    "            predict[item] = float(self.average_rating[u] + predict[item] / userSimSum)\n",
    "            predict[item] = float(f\"{predict[item]:.2f}\")\n",
    "        recommond_courseId = sorted(predict.items(), key=lambda x: x[1], reverse=True)[0:N]\n",
    "        return recommond_courseId\n",
    "    def hot_top(self, N: int):\n",
    "        return list(dict(sorted(self.item_user.items(), key=lambda x : len(x[1]), reverse=True)).keys())[0:N]"
   ]
  },
  {
   "cell_type": "code",
   "execution_count": 27,
   "metadata": {},
   "outputs": [
    {
     "data": {
      "text/html": [
       "<div>\n",
       "<style scoped>\n",
       "    .dataframe tbody tr th:only-of-type {\n",
       "        vertical-align: middle;\n",
       "    }\n",
       "\n",
       "    .dataframe tbody tr th {\n",
       "        vertical-align: top;\n",
       "    }\n",
       "\n",
       "    .dataframe thead th {\n",
       "        text-align: right;\n",
       "    }\n",
       "</style>\n",
       "<table border=\"1\" class=\"dataframe\">\n",
       "  <thead>\n",
       "    <tr style=\"text-align: right;\">\n",
       "      <th></th>\n",
       "      <th>userId</th>\n",
       "      <th>courseId</th>\n",
       "      <th>score</th>\n",
       "      <th>rating</th>\n",
       "    </tr>\n",
       "  </thead>\n",
       "  <tbody>\n",
       "    <tr>\n",
       "      <th>0</th>\n",
       "      <td>3</td>\n",
       "      <td>2</td>\n",
       "      <td>2.0</td>\n",
       "      <td>10</td>\n",
       "    </tr>\n",
       "    <tr>\n",
       "      <th>1</th>\n",
       "      <td>3</td>\n",
       "      <td>14</td>\n",
       "      <td>0.0</td>\n",
       "      <td>0</td>\n",
       "    </tr>\n",
       "    <tr>\n",
       "      <th>2</th>\n",
       "      <td>3</td>\n",
       "      <td>96</td>\n",
       "      <td>0.0</td>\n",
       "      <td>0</td>\n",
       "    </tr>\n",
       "    <tr>\n",
       "      <th>3</th>\n",
       "      <td>3</td>\n",
       "      <td>263</td>\n",
       "      <td>0.0</td>\n",
       "      <td>0</td>\n",
       "    </tr>\n",
       "    <tr>\n",
       "      <th>4</th>\n",
       "      <td>3</td>\n",
       "      <td>338</td>\n",
       "      <td>0.0</td>\n",
       "      <td>0</td>\n",
       "    </tr>\n",
       "    <tr>\n",
       "      <th>...</th>\n",
       "      <td>...</td>\n",
       "      <td>...</td>\n",
       "      <td>...</td>\n",
       "      <td>...</td>\n",
       "    </tr>\n",
       "    <tr>\n",
       "      <th>47369</th>\n",
       "      <td>174581</td>\n",
       "      <td>11109</td>\n",
       "      <td>0.0</td>\n",
       "      <td>0</td>\n",
       "    </tr>\n",
       "    <tr>\n",
       "      <th>47370</th>\n",
       "      <td>174582</td>\n",
       "      <td>11109</td>\n",
       "      <td>0.0</td>\n",
       "      <td>0</td>\n",
       "    </tr>\n",
       "    <tr>\n",
       "      <th>47371</th>\n",
       "      <td>174583</td>\n",
       "      <td>11109</td>\n",
       "      <td>0.0</td>\n",
       "      <td>0</td>\n",
       "    </tr>\n",
       "    <tr>\n",
       "      <th>47372</th>\n",
       "      <td>174584</td>\n",
       "      <td>11109</td>\n",
       "      <td>0.0</td>\n",
       "      <td>0</td>\n",
       "    </tr>\n",
       "    <tr>\n",
       "      <th>47373</th>\n",
       "      <td>174585</td>\n",
       "      <td>11109</td>\n",
       "      <td>0.0</td>\n",
       "      <td>0</td>\n",
       "    </tr>\n",
       "  </tbody>\n",
       "</table>\n",
       "<p>47374 rows × 4 columns</p>\n",
       "</div>"
      ],
      "text/plain": [
       "       userId  courseId  score  rating\n",
       "0           3         2    2.0      10\n",
       "1           3        14    0.0       0\n",
       "2           3        96    0.0       0\n",
       "3           3       263    0.0       0\n",
       "4           3       338    0.0       0\n",
       "...       ...       ...    ...     ...\n",
       "47369  174581     11109    0.0       0\n",
       "47370  174582     11109    0.0       0\n",
       "47371  174583     11109    0.0       0\n",
       "47372  174584     11109    0.0       0\n",
       "47373  174585     11109    0.0       0\n",
       "\n",
       "[47374 rows x 4 columns]"
      ]
     },
     "execution_count": 27,
     "metadata": {},
     "output_type": "execute_result"
    }
   ],
   "source": [
    "user_data"
   ]
  },
  {
   "cell_type": "code",
   "execution_count": 28,
   "metadata": {},
   "outputs": [],
   "source": [
    "user_score = user_data.groupby('userId').apply(lambda x: x.set_index('courseId')['score'].to_dict()).to_dict()\n",
    "user_rating = user_data.groupby('userId').apply(lambda x: x.set_index('courseId')['rating'].to_dict()).to_dict()"
   ]
  },
  {
   "cell_type": "code",
   "execution_count": 29,
   "metadata": {},
   "outputs": [
    {
     "name": "stdout",
     "output_type": "stream",
     "text": [
      "\u001b[0;32mBuilding item-user table...\u001b[0m\n"
     ]
    },
    {
     "name": "stderr",
     "output_type": "stream",
     "text": [
      "100%|██████████| 31172/31172 [00:00<00:00, 1416904.30it/s]\n"
     ]
    },
    {
     "name": "stdout",
     "output_type": "stream",
     "text": [
      "len(item) = 1415, len(user) = 31172\n",
      "\u001b[0;32mBuild user common-rating item matrix...\u001b[0m\n"
     ]
    },
    {
     "name": "stderr",
     "output_type": "stream",
     "text": [
      "100%|██████████| 1415/1415 [00:03<00:00, 425.64it/s]\n"
     ]
    }
   ],
   "source": [
    "AR_CF_score = UserItemRecommond(user_score)"
   ]
  },
  {
   "cell_type": "code",
   "execution_count": 30,
   "metadata": {},
   "outputs": [],
   "source": [
    "json_data = {}"
   ]
  },
  {
   "cell_type": "code",
   "execution_count": 31,
   "metadata": {},
   "outputs": [],
   "source": [
    "userId_list = sorted([int(x) for x in testpaper_result['userId'].unique()])\n",
    "json_data['userId_list'] = userId_list"
   ]
  },
  {
   "cell_type": "code",
   "execution_count": 32,
   "metadata": {},
   "outputs": [],
   "source": [
    "json_data['courseId_by_score'] = {user: dict(AR_CF_score.recommend(user, 10, 10)) for user in userId_list}"
   ]
  },
  {
   "cell_type": "code",
   "execution_count": 33,
   "metadata": {},
   "outputs": [],
   "source": [
    "json_data['hot_courseId_by_score'] = AR_CF_score.hot_top(10)"
   ]
  },
  {
   "cell_type": "code",
   "execution_count": 34,
   "metadata": {},
   "outputs": [
    {
     "name": "stdout",
     "output_type": "stream",
     "text": [
      "\u001b[0;32mBuilding item-user table...\u001b[0m\n"
     ]
    },
    {
     "name": "stderr",
     "output_type": "stream",
     "text": [
      "100%|██████████| 31172/31172 [00:00<00:00, 1246792.01it/s]\n"
     ]
    },
    {
     "name": "stdout",
     "output_type": "stream",
     "text": [
      "len(item) = 1415, len(user) = 31172\n",
      "\u001b[0;32mBuild user common-rating item matrix...\u001b[0m\n"
     ]
    },
    {
     "name": "stderr",
     "output_type": "stream",
     "text": [
      "100%|██████████| 1415/1415 [00:02<00:00, 554.15it/s] \n"
     ]
    }
   ],
   "source": [
    "AR_CF_rating = UserItemRecommond(user_rating)"
   ]
  },
  {
   "cell_type": "code",
   "execution_count": 35,
   "metadata": {},
   "outputs": [],
   "source": [
    "json_data['courseId_by_rating'] = {user: dict(AR_CF_rating.recommend(user, 10, 10)) for user in userId_list}"
   ]
  },
  {
   "cell_type": "code",
   "execution_count": 36,
   "metadata": {},
   "outputs": [],
   "source": [
    "json_data['hot_courseId_by_rating'] = AR_CF_rating.hot_top(10)"
   ]
  },
  {
   "cell_type": "code",
   "execution_count": 37,
   "metadata": {},
   "outputs": [],
   "source": [
    "json.dump(json_data, open('./out/个性化课程推荐.json', \"w\"))"
   ]
  }
 ],
 "metadata": {
  "kernelspec": {
   "display_name": "Python 3",
   "language": "python",
   "name": "python3"
  },
  "language_info": {
   "codemirror_mode": {
    "name": "ipython",
    "version": 3
   },
   "file_extension": ".py",
   "mimetype": "text/x-python",
   "name": "python",
   "nbconvert_exporter": "python",
   "pygments_lexer": "ipython3",
   "version": "3.10.8"
  }
 },
 "nbformat": 4,
 "nbformat_minor": 2
}
